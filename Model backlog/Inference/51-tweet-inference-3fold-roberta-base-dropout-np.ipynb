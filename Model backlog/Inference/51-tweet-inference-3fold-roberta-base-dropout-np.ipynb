{
 "cells": [
  {
   "cell_type": "markdown",
   "metadata": {},
   "source": [
    "## Dependencies"
   ]
  },
  {
   "cell_type": "code",
   "execution_count": 1,
   "metadata": {
    "_cell_guid": "b1076dfc-b9ad-4769-8c92-a6c4dae69d19",
    "_kg_hide-input": true,
    "_uuid": "8f2839f25d086af736a60e9eeb907d3b93b6e0e5"
   },
   "outputs": [],
   "source": [
    "import json, glob\n",
    "from tweet_utility_scripts import *\n",
    "from tweet_utility_preprocess_roberta_scripts import *\n",
    "from transformers import TFRobertaModel, RobertaConfig\n",
    "from tokenizers import ByteLevelBPETokenizer\n",
    "from tensorflow.keras import layers\n",
    "from tensorflow.keras.models import Model"
   ]
  },
  {
   "cell_type": "markdown",
   "metadata": {},
   "source": [
    "# Load data"
   ]
  },
  {
   "cell_type": "code",
   "execution_count": 2,
   "metadata": {
    "_cell_guid": "79c7e3d0-c299-4dcb-8224-4455121ee9b0",
    "_kg_hide-input": true,
    "_uuid": "d629ff2d2480ee46fbb7e2d37f6b5fab8052498a"
   },
   "outputs": [
    {
     "name": "stdout",
     "output_type": "stream",
     "text": [
      "Test samples: 3534\n"
     ]
    },
    {
     "data": {
      "text/html": [
       "<div>\n",
       "<style scoped>\n",
       "    .dataframe tbody tr th:only-of-type {\n",
       "        vertical-align: middle;\n",
       "    }\n",
       "\n",
       "    .dataframe tbody tr th {\n",
       "        vertical-align: top;\n",
       "    }\n",
       "\n",
       "    .dataframe thead th {\n",
       "        text-align: right;\n",
       "    }\n",
       "</style>\n",
       "<table border=\"1\" class=\"dataframe\">\n",
       "  <thead>\n",
       "    <tr style=\"text-align: right;\">\n",
       "      <th></th>\n",
       "      <th>textID</th>\n",
       "      <th>text</th>\n",
       "      <th>sentiment</th>\n",
       "    </tr>\n",
       "  </thead>\n",
       "  <tbody>\n",
       "    <tr>\n",
       "      <th>0</th>\n",
       "      <td>f87dea47db</td>\n",
       "      <td>Last session of the day  http://twitpic.com/67ezh</td>\n",
       "      <td>neutral</td>\n",
       "    </tr>\n",
       "    <tr>\n",
       "      <th>1</th>\n",
       "      <td>96d74cb729</td>\n",
       "      <td>Shanghai is also really exciting (precisely -...</td>\n",
       "      <td>positive</td>\n",
       "    </tr>\n",
       "    <tr>\n",
       "      <th>2</th>\n",
       "      <td>eee518ae67</td>\n",
       "      <td>Recession hit Veronique Branquinho, she has to...</td>\n",
       "      <td>negative</td>\n",
       "    </tr>\n",
       "    <tr>\n",
       "      <th>3</th>\n",
       "      <td>01082688c6</td>\n",
       "      <td>happy bday!</td>\n",
       "      <td>positive</td>\n",
       "    </tr>\n",
       "    <tr>\n",
       "      <th>4</th>\n",
       "      <td>33987a8ee5</td>\n",
       "      <td>http://twitpic.com/4w75p - I like it!!</td>\n",
       "      <td>positive</td>\n",
       "    </tr>\n",
       "  </tbody>\n",
       "</table>\n",
       "</div>"
      ],
      "text/plain": [
       "       textID                                               text sentiment\n",
       "0  f87dea47db  Last session of the day  http://twitpic.com/67ezh   neutral\n",
       "1  96d74cb729   Shanghai is also really exciting (precisely -...  positive\n",
       "2  eee518ae67  Recession hit Veronique Branquinho, she has to...  negative\n",
       "3  01082688c6                                        happy bday!  positive\n",
       "4  33987a8ee5             http://twitpic.com/4w75p - I like it!!  positive"
      ]
     },
     "metadata": {},
     "output_type": "display_data"
    }
   ],
   "source": [
    "test = pd.read_csv('/kaggle/input/tweet-sentiment-extraction/test.csv')\n",
    "\n",
    "print('Test samples: %s' % len(test))\n",
    "display(test.head())"
   ]
  },
  {
   "cell_type": "markdown",
   "metadata": {},
   "source": [
    "# Model parameters"
   ]
  },
  {
   "cell_type": "code",
   "execution_count": 3,
   "metadata": {
    "_kg_hide-input": true
   },
   "outputs": [
    {
     "data": {
      "text/plain": [
       "{'MAX_LEN': 96,\n",
       " 'BATCH_SIZE': 16,\n",
       " 'EPOCHS': 5,\n",
       " 'LEARNING_RATE': 5e-05,\n",
       " 'ES_PATIENCE': 1,\n",
       " 'question_size': 4,\n",
       " 'N_FOLDS': 3,\n",
       " 'base_model_path': '/kaggle/input/qa-transformers/roberta/roberta-base-tf_model.h5',\n",
       " 'config_path': '/kaggle/input/qa-transformers/roberta/roberta-base-config.json'}"
      ]
     },
     "execution_count": 3,
     "metadata": {},
     "output_type": "execute_result"
    }
   ],
   "source": [
    "input_base_path = '/kaggle/input/51-tweet-train-3fold-roberta-base-dropout-np/'\n",
    "with open(input_base_path + 'config.json') as json_file:\n",
    "    config = json.load(json_file)\n",
    "\n",
    "config"
   ]
  },
  {
   "cell_type": "code",
   "execution_count": 4,
   "metadata": {
    "_kg_hide-input": true
   },
   "outputs": [
    {
     "name": "stdout",
     "output_type": "stream",
     "text": [
      "Models to predict:\n",
      "/kaggle/input/51-tweet-train-3fold-roberta-base-dropout-np/model_fold_1.h5\n",
      "/kaggle/input/51-tweet-train-3fold-roberta-base-dropout-np/model_fold_2.h5\n",
      "/kaggle/input/51-tweet-train-3fold-roberta-base-dropout-np/model_fold_3.h5\n"
     ]
    }
   ],
   "source": [
    "vocab_path = input_base_path + 'vocab.json'\n",
    "merges_path = input_base_path + 'merges.txt'\n",
    "base_path = '/kaggle/input/qa-transformers/roberta/'\n",
    "model_path_list = glob.glob(input_base_path + '*.h5')\n",
    "model_path_list.sort()\n",
    "print('Models to predict:')\n",
    "print(*model_path_list, sep = \"\\n\")"
   ]
  },
  {
   "cell_type": "markdown",
   "metadata": {},
   "source": [
    "# Tokenizer"
   ]
  },
  {
   "cell_type": "code",
   "execution_count": 5,
   "metadata": {},
   "outputs": [],
   "source": [
    "tokenizer = ByteLevelBPETokenizer(vocab_file=vocab_path, merges_file=merges_path, lowercase=True, add_prefix_space=True)"
   ]
  },
  {
   "cell_type": "markdown",
   "metadata": {},
   "source": [
    "# Pre process"
   ]
  },
  {
   "cell_type": "code",
   "execution_count": 6,
   "metadata": {},
   "outputs": [],
   "source": [
    "test['text'].fillna('', inplace=True)\n",
    "test[\"text\"] = test[\"text\"].apply(lambda x: x.lower())\n",
    "test[\"text\"] = test[\"text\"].apply(lambda x: x.strip())\n",
    "\n",
    "x_test = get_data_test(test, tokenizer, config['MAX_LEN'], preprocess_fn=preprocess_roberta_test)"
   ]
  },
  {
   "cell_type": "markdown",
   "metadata": {},
   "source": [
    "# Model"
   ]
  },
  {
   "cell_type": "code",
   "execution_count": 7,
   "metadata": {},
   "outputs": [],
   "source": [
    "module_config = RobertaConfig.from_pretrained(config['config_path'], output_hidden_states=False)\n",
    "\n",
    "def model_fn(MAX_LEN):\n",
    "    input_ids = layers.Input(shape=(MAX_LEN,), dtype=tf.int32, name='input_ids')\n",
    "    attention_mask = layers.Input(shape=(MAX_LEN,), dtype=tf.int32, name='attention_mask')\n",
    "    token_type_ids = layers.Input(shape=(MAX_LEN,), dtype=tf.int32, name='token_type_ids')\n",
    "    \n",
    "    base_model = TFRobertaModel.from_pretrained(config['base_model_path'], config=module_config, name=\"base_model\")\n",
    "    sequence_output = base_model({'input_ids': input_ids, 'attention_mask': attention_mask})\n",
    "    last_state = sequence_output[0]\n",
    "    \n",
    "    x_start = layers.Conv1D(1, 1)(last_state)\n",
    "    x_start = layers.Flatten()(x_start)\n",
    "    y_start = layers.Dense(MAX_LEN, activation='softmax', name='y_start')(x_start)   \n",
    "\n",
    "    x_end = layers.Conv1D(1, 1)(last_state)\n",
    "    x_end = layers.Flatten()(x_end)\n",
    "    y_end = layers.Dense(MAX_LEN, activation='softmax', name='y_end')(x_end) \n",
    "    \n",
    "    model = Model(inputs=[input_ids, attention_mask], outputs=[y_start, y_end])\n",
    "    \n",
    "    return model"
   ]
  },
  {
   "cell_type": "markdown",
   "metadata": {},
   "source": [
    "# Make predictions"
   ]
  },
  {
   "cell_type": "code",
   "execution_count": 8,
   "metadata": {
    "_kg_hide-input": true
   },
   "outputs": [
    {
     "name": "stdout",
     "output_type": "stream",
     "text": [
      "/kaggle/input/51-tweet-train-3fold-roberta-base-dropout-np/model_fold_1.h5\n",
      "/kaggle/input/51-tweet-train-3fold-roberta-base-dropout-np/model_fold_2.h5\n",
      "/kaggle/input/51-tweet-train-3fold-roberta-base-dropout-np/model_fold_3.h5\n"
     ]
    }
   ],
   "source": [
    "NUM_TEST_IMAGES = len(test)\n",
    "test_start_preds = np.zeros((NUM_TEST_IMAGES, config['MAX_LEN']))\n",
    "test_end_preds = np.zeros((NUM_TEST_IMAGES, config['MAX_LEN']))\n",
    "\n",
    "for model_path in model_path_list:\n",
    "    print(model_path)\n",
    "    model = model_fn(config['MAX_LEN'])\n",
    "    model.load_weights(model_path)\n",
    "    \n",
    "    test_preds = model.predict(x_test)  \n",
    "    test_start_preds += test_preds[0] / len(model_path_list)\n",
    "    test_end_preds += test_preds[1] / len(model_path_list)"
   ]
  },
  {
   "cell_type": "markdown",
   "metadata": {},
   "source": [
    "# Post process"
   ]
  },
  {
   "cell_type": "code",
   "execution_count": 9,
   "metadata": {
    "_kg_hide-input": true
   },
   "outputs": [],
   "source": [
    "test['start'] = test_start_preds.argmax(axis=-1)\n",
    "test['end'] = test_end_preds.argmax(axis=-1)\n",
    "\n",
    "test['text_len'] = test['text'].apply(lambda x : len(x))\n",
    "test['text_wordCnt'] = test['text'].apply(lambda x : len(x.split(' ')))\n",
    "test[\"end\"].clip(0, test[\"text_len\"], inplace=True)\n",
    "test[\"start\"].clip(0, test[\"end\"], inplace=True)\n",
    "\n",
    "test['selected_text'] = test.apply(lambda x: decode(x['start'], x['end'], x['text'], config['question_size'], tokenizer), axis=1)\n",
    "test[\"selected_text\"].fillna('', inplace=True)"
   ]
  },
  {
   "cell_type": "markdown",
   "metadata": {},
   "source": [
    "# Visualize predictions"
   ]
  },
  {
   "cell_type": "code",
   "execution_count": 10,
   "metadata": {
    "_kg_hide-input": true
   },
   "outputs": [
    {
     "data": {
      "text/html": [
       "<div>\n",
       "<style scoped>\n",
       "    .dataframe tbody tr th:only-of-type {\n",
       "        vertical-align: middle;\n",
       "    }\n",
       "\n",
       "    .dataframe tbody tr th {\n",
       "        vertical-align: top;\n",
       "    }\n",
       "\n",
       "    .dataframe thead th {\n",
       "        text-align: right;\n",
       "    }\n",
       "</style>\n",
       "<table border=\"1\" class=\"dataframe\">\n",
       "  <thead>\n",
       "    <tr style=\"text-align: right;\">\n",
       "      <th></th>\n",
       "      <th>textID</th>\n",
       "      <th>text</th>\n",
       "      <th>sentiment</th>\n",
       "      <th>start</th>\n",
       "      <th>end</th>\n",
       "      <th>text_len</th>\n",
       "      <th>text_wordCnt</th>\n",
       "      <th>selected_text</th>\n",
       "    </tr>\n",
       "  </thead>\n",
       "  <tbody>\n",
       "    <tr>\n",
       "      <th>0</th>\n",
       "      <td>f87dea47db</td>\n",
       "      <td>last session of the day  http://twitpic.com/67ezh</td>\n",
       "      <td>neutral</td>\n",
       "      <td>4</td>\n",
       "      <td>8</td>\n",
       "      <td>49</td>\n",
       "      <td>7</td>\n",
       "      <td>last session of the day</td>\n",
       "    </tr>\n",
       "    <tr>\n",
       "      <th>1</th>\n",
       "      <td>96d74cb729</td>\n",
       "      <td>shanghai is also really exciting (precisely --...</td>\n",
       "      <td>positive</td>\n",
       "      <td>10</td>\n",
       "      <td>10</td>\n",
       "      <td>102</td>\n",
       "      <td>17</td>\n",
       "      <td>exciting</td>\n",
       "    </tr>\n",
       "    <tr>\n",
       "      <th>2</th>\n",
       "      <td>eee518ae67</td>\n",
       "      <td>recession hit veronique branquinho, she has to...</td>\n",
       "      <td>negative</td>\n",
       "      <td>21</td>\n",
       "      <td>23</td>\n",
       "      <td>78</td>\n",
       "      <td>13</td>\n",
       "      <td>a shame!</td>\n",
       "    </tr>\n",
       "    <tr>\n",
       "      <th>3</th>\n",
       "      <td>01082688c6</td>\n",
       "      <td>happy bday!</td>\n",
       "      <td>positive</td>\n",
       "      <td>4</td>\n",
       "      <td>7</td>\n",
       "      <td>11</td>\n",
       "      <td>2</td>\n",
       "      <td>happy bday!</td>\n",
       "    </tr>\n",
       "    <tr>\n",
       "      <th>4</th>\n",
       "      <td>33987a8ee5</td>\n",
       "      <td>http://twitpic.com/4w75p - i like it!!</td>\n",
       "      <td>positive</td>\n",
       "      <td>18</td>\n",
       "      <td>20</td>\n",
       "      <td>38</td>\n",
       "      <td>5</td>\n",
       "      <td>like it!!</td>\n",
       "    </tr>\n",
       "    <tr>\n",
       "      <th>5</th>\n",
       "      <td>726e501993</td>\n",
       "      <td>that`s great!! weee!! visitors!</td>\n",
       "      <td>positive</td>\n",
       "      <td>4</td>\n",
       "      <td>8</td>\n",
       "      <td>31</td>\n",
       "      <td>4</td>\n",
       "      <td>that`s great!!</td>\n",
       "    </tr>\n",
       "    <tr>\n",
       "      <th>6</th>\n",
       "      <td>261932614e</td>\n",
       "      <td>i think everyone hates me on here   lol</td>\n",
       "      <td>negative</td>\n",
       "      <td>7</td>\n",
       "      <td>7</td>\n",
       "      <td>39</td>\n",
       "      <td>10</td>\n",
       "      <td>hates</td>\n",
       "    </tr>\n",
       "    <tr>\n",
       "      <th>7</th>\n",
       "      <td>afa11da83f</td>\n",
       "      <td>soooooo wish i could, but im in school and mys...</td>\n",
       "      <td>negative</td>\n",
       "      <td>20</td>\n",
       "      <td>20</td>\n",
       "      <td>72</td>\n",
       "      <td>13</td>\n",
       "      <td>blocked</td>\n",
       "    </tr>\n",
       "    <tr>\n",
       "      <th>8</th>\n",
       "      <td>e64208b4ef</td>\n",
       "      <td>and within a short time of the last clue all o...</td>\n",
       "      <td>neutral</td>\n",
       "      <td>4</td>\n",
       "      <td>15</td>\n",
       "      <td>52</td>\n",
       "      <td>12</td>\n",
       "      <td>and within a short time of the last clue all o...</td>\n",
       "    </tr>\n",
       "    <tr>\n",
       "      <th>9</th>\n",
       "      <td>37bcad24ca</td>\n",
       "      <td>what did you get?  my day is alright.. haven`t...</td>\n",
       "      <td>neutral</td>\n",
       "      <td>4</td>\n",
       "      <td>29</td>\n",
       "      <td>103</td>\n",
       "      <td>19</td>\n",
       "      <td>what did you get?  my day is alright.. haven`t...</td>\n",
       "    </tr>\n",
       "  </tbody>\n",
       "</table>\n",
       "</div>"
      ],
      "text/plain": [
       "       textID                                               text sentiment  \\\n",
       "0  f87dea47db  last session of the day  http://twitpic.com/67ezh   neutral   \n",
       "1  96d74cb729  shanghai is also really exciting (precisely --...  positive   \n",
       "2  eee518ae67  recession hit veronique branquinho, she has to...  negative   \n",
       "3  01082688c6                                        happy bday!  positive   \n",
       "4  33987a8ee5             http://twitpic.com/4w75p - i like it!!  positive   \n",
       "5  726e501993                    that`s great!! weee!! visitors!  positive   \n",
       "6  261932614e            i think everyone hates me on here   lol  negative   \n",
       "7  afa11da83f  soooooo wish i could, but im in school and mys...  negative   \n",
       "8  e64208b4ef  and within a short time of the last clue all o...   neutral   \n",
       "9  37bcad24ca  what did you get?  my day is alright.. haven`t...   neutral   \n",
       "\n",
       "   start  end  text_len  text_wordCnt  \\\n",
       "0      4    8        49             7   \n",
       "1     10   10       102            17   \n",
       "2     21   23        78            13   \n",
       "3      4    7        11             2   \n",
       "4     18   20        38             5   \n",
       "5      4    8        31             4   \n",
       "6      7    7        39            10   \n",
       "7     20   20        72            13   \n",
       "8      4   15        52            12   \n",
       "9      4   29       103            19   \n",
       "\n",
       "                                       selected_text  \n",
       "0                            last session of the day  \n",
       "1                                           exciting  \n",
       "2                                           a shame!  \n",
       "3                                        happy bday!  \n",
       "4                                          like it!!  \n",
       "5                                     that`s great!!  \n",
       "6                                              hates  \n",
       "7                                            blocked  \n",
       "8  and within a short time of the last clue all o...  \n",
       "9  what did you get?  my day is alright.. haven`t...  "
      ]
     },
     "metadata": {},
     "output_type": "display_data"
    }
   ],
   "source": [
    "display(test.head(10))"
   ]
  },
  {
   "cell_type": "markdown",
   "metadata": {},
   "source": [
    "# Test set predictions"
   ]
  },
  {
   "cell_type": "code",
   "execution_count": 11,
   "metadata": {
    "_kg_hide-input": true
   },
   "outputs": [
    {
     "data": {
      "text/html": [
       "<div>\n",
       "<style scoped>\n",
       "    .dataframe tbody tr th:only-of-type {\n",
       "        vertical-align: middle;\n",
       "    }\n",
       "\n",
       "    .dataframe tbody tr th {\n",
       "        vertical-align: top;\n",
       "    }\n",
       "\n",
       "    .dataframe thead th {\n",
       "        text-align: right;\n",
       "    }\n",
       "</style>\n",
       "<table border=\"1\" class=\"dataframe\">\n",
       "  <thead>\n",
       "    <tr style=\"text-align: right;\">\n",
       "      <th></th>\n",
       "      <th>textID</th>\n",
       "      <th>selected_text</th>\n",
       "    </tr>\n",
       "  </thead>\n",
       "  <tbody>\n",
       "    <tr>\n",
       "      <th>0</th>\n",
       "      <td>f87dea47db</td>\n",
       "      <td>last session of the day</td>\n",
       "    </tr>\n",
       "    <tr>\n",
       "      <th>1</th>\n",
       "      <td>96d74cb729</td>\n",
       "      <td>exciting</td>\n",
       "    </tr>\n",
       "    <tr>\n",
       "      <th>2</th>\n",
       "      <td>eee518ae67</td>\n",
       "      <td>a shame!</td>\n",
       "    </tr>\n",
       "    <tr>\n",
       "      <th>3</th>\n",
       "      <td>01082688c6</td>\n",
       "      <td>happy bday!</td>\n",
       "    </tr>\n",
       "    <tr>\n",
       "      <th>4</th>\n",
       "      <td>33987a8ee5</td>\n",
       "      <td>like it!!</td>\n",
       "    </tr>\n",
       "    <tr>\n",
       "      <th>5</th>\n",
       "      <td>726e501993</td>\n",
       "      <td>that`s great!!</td>\n",
       "    </tr>\n",
       "    <tr>\n",
       "      <th>6</th>\n",
       "      <td>261932614e</td>\n",
       "      <td>hates</td>\n",
       "    </tr>\n",
       "    <tr>\n",
       "      <th>7</th>\n",
       "      <td>afa11da83f</td>\n",
       "      <td>blocked</td>\n",
       "    </tr>\n",
       "    <tr>\n",
       "      <th>8</th>\n",
       "      <td>e64208b4ef</td>\n",
       "      <td>and within a short time of the last clue all o...</td>\n",
       "    </tr>\n",
       "    <tr>\n",
       "      <th>9</th>\n",
       "      <td>37bcad24ca</td>\n",
       "      <td>what did you get?  my day is alright.. haven`t...</td>\n",
       "    </tr>\n",
       "  </tbody>\n",
       "</table>\n",
       "</div>"
      ],
      "text/plain": [
       "       textID                                      selected_text\n",
       "0  f87dea47db                            last session of the day\n",
       "1  96d74cb729                                           exciting\n",
       "2  eee518ae67                                           a shame!\n",
       "3  01082688c6                                        happy bday!\n",
       "4  33987a8ee5                                          like it!!\n",
       "5  726e501993                                     that`s great!!\n",
       "6  261932614e                                              hates\n",
       "7  afa11da83f                                            blocked\n",
       "8  e64208b4ef  and within a short time of the last clue all o...\n",
       "9  37bcad24ca  what did you get?  my day is alright.. haven`t..."
      ]
     },
     "execution_count": 11,
     "metadata": {},
     "output_type": "execute_result"
    }
   ],
   "source": [
    "submission = pd.read_csv('/kaggle/input/tweet-sentiment-extraction/sample_submission.csv')\n",
    "submission['selected_text'] = test[\"selected_text\"]\n",
    "submission.to_csv('submission.csv', index=False)\n",
    "submission.head(10)"
   ]
  }
 ],
 "metadata": {
  "kernelspec": {
   "display_name": "Python 3",
   "language": "python",
   "name": "python3"
  },
  "language_info": {
   "codemirror_mode": {
    "name": "ipython",
    "version": 3
   },
   "file_extension": ".py",
   "mimetype": "text/x-python",
   "name": "python",
   "nbconvert_exporter": "python",
   "pygments_lexer": "ipython3",
   "version": "3.6.6"
  }
 },
 "nbformat": 4,
 "nbformat_minor": 4
}
